{
 "cells": [
  {
   "cell_type": "code",
   "execution_count": 1,
   "metadata": {},
   "outputs": [],
   "source": [
    "#Datatypes\n",
    "contador = 3\n",
    "numero_pi = 3,14159\n",
    "cadena = \"Python es lo maximo\"\n",
    "flag = True "
   ]
  },
  {
   "cell_type": "code",
   "execution_count": 2,
   "metadata": {},
   "outputs": [],
   "source": [
    "#Datatypes with typing\n",
    "contador:int = 3\n",
    "numero_pi:float = 3,14159\n",
    "cadena:str = \"Python es lo maximo\"\n",
    "flag:bool = True "
   ]
  },
  {
   "cell_type": "code",
   "execution_count": 4,
   "metadata": {},
   "outputs": [
    {
     "name": "stdout",
     "output_type": "stream",
     "text": [
      "True\n",
      "True\n",
      "True\n"
     ]
    }
   ],
   "source": [
    "#Logical Operator\n",
    "print(True and True)\n",
    "print(True or False)\n",
    "print(not False )"
   ]
  },
  {
   "cell_type": "code",
   "execution_count": 7,
   "metadata": {},
   "outputs": [
    {
     "name": "stdout",
     "output_type": "stream",
     "text": [
      "6\n",
      "80\n",
      "6.0\n",
      "3.5\n",
      "1\n",
      "4\n",
      "4.5\n"
     ]
    }
   ],
   "source": [
    "# Aritmetic operator\n",
    "print(3+3) # suma\n",
    "print(10*8) # multiplicacion\n",
    "print(24/4)  # division\n",
    "print(10.9 - 7.4) # resta\n",
    "print(9%2)  # modulo: residuo de la division , en este caso es el residuo de 9 / 2\n",
    "print(9//2)  # division entera , entrega solo la parte entera de la division\n",
    "print(9/2)  # division decimal\n"
   ]
  },
  {
   "cell_type": "code",
   "execution_count": 21,
   "metadata": {},
   "outputs": [],
   "source": [
    "#Collections\n",
    "\n",
    "my_list=[1,2,3,4]  # Lista es una coleccion ordenada y mutable\n",
    "my_tuple = [\"Fish\",\"Chips\"]     # Tupla es una coleccion ordenada no mutable \n",
    "my_set = {\"a\",\"b\",\"c\"}    #conjunto es una coleccion no ordenada mutable solo cuando se saca y mete valores, sin repeticiones\n",
    "my_dict = {\"Name\":\"Jhon\",\"Last_Name\":\"Smith\"}  # Diccionario, es una coleccion llave valor, es ordenada y mutable\n"
   ]
  },
  {
   "cell_type": "code",
   "execution_count": 13,
   "metadata": {},
   "outputs": [
    {
     "data": {
      "text/plain": [
       "[1, 2, 3, 5]"
      ]
     },
     "execution_count": 13,
     "metadata": {},
     "output_type": "execute_result"
    }
   ],
   "source": [
    "my_list[3] \n",
    "my_list[3] = 5\n",
    "my_list"
   ]
  },
  {
   "cell_type": "code",
   "execution_count": 22,
   "metadata": {},
   "outputs": [
    {
     "data": {
      "text/plain": [
       "['Fish', 'Bacon']"
      ]
     },
     "execution_count": 22,
     "metadata": {},
     "output_type": "execute_result"
    }
   ],
   "source": [
    "my_tuple[1]\n",
    "my_tuple[1] = \"Bacon\"\n",
    "my_tuple"
   ]
  },
  {
   "cell_type": "code",
   "execution_count": 25,
   "metadata": {},
   "outputs": [
    {
     "data": {
      "text/plain": [
       "{'x', 'y', 'z'}"
      ]
     },
     "execution_count": 25,
     "metadata": {},
     "output_type": "execute_result"
    }
   ],
   "source": [
    "my_second_set = {\"x\",\"y\",\"z\",\"x\"}\n",
    "my_second_set\n"
   ]
  },
  {
   "cell_type": "code",
   "execution_count": 28,
   "metadata": {},
   "outputs": [
    {
     "data": {
      "text/plain": [
       "{'Name': 'Soledad', 'Last_Name': 'Rios'}"
      ]
     },
     "execution_count": 28,
     "metadata": {},
     "output_type": "execute_result"
    }
   ],
   "source": [
    "my_dict[\"Last_Name\"]\n",
    "\n",
    "my_second_dict = {\"Name\":\"Maria\",\"Name\":\"Soledad\",\"Last_Name\":\"Rios\"}\n",
    "my_second_dict"
   ]
  },
  {
   "cell_type": "code",
   "execution_count": 31,
   "metadata": {},
   "outputs": [
    {
     "name": "stdout",
     "output_type": "stream",
     "text": [
      "10 no es menor que 4\n",
      "El equipo A gano\n"
     ]
    }
   ],
   "source": [
    "# Secuencias de Control\n",
    "# Sequence,Selection, Iteration\n",
    "# Las tres estructuras de control (teorema de Bohm Jacopini)\n",
    "\n",
    "if 10 < 4:\n",
    "    print(\"10 es menor que 4\")\n",
    "else:\n",
    "    print(\"10 no es menor que 4\")\n",
    "\n",
    "\n",
    "score_team_A = 3\n",
    "score_team_B = 1\n",
    "\n",
    "if score_team_A < score_team_B:\n",
    "    print(\"El equipo A perdio\")\n",
    "elif score_team_A > score_team_B:\n",
    "    print(\"El equipo A gano\")\n",
    "else: \n",
    "    print(\"Fue empate\")\n"
   ]
  },
  {
   "cell_type": "code",
   "execution_count": 35,
   "metadata": {},
   "outputs": [
    {
     "name": "stdout",
     "output_type": "stream",
     "text": [
      "7\n",
      "10\n",
      "5\n",
      "0\n",
      "4\n",
      "3\n",
      "2\n",
      "1\n"
     ]
    }
   ],
   "source": [
    "my_second_list = [7,10,5,0]\n",
    "\n",
    "for i in my_second_list:\n",
    "    print(i)\n",
    "\n",
    "\n",
    "my_number = 4\n",
    "\n",
    "while my_number > 0:\n",
    "    print( my_number)\n",
    "    my_number = my_number - 1  # la forma compacta es my_number -= 1"
   ]
  },
  {
   "cell_type": "code",
   "execution_count": 36,
   "metadata": {},
   "outputs": [],
   "source": [
    "import numpy as np"
   ]
  },
  {
   "cell_type": "code",
   "execution_count": 37,
   "metadata": {},
   "outputs": [
    {
     "data": {
      "text/plain": [
       "array([6, 7, 8, 9])"
      ]
     },
     "execution_count": 37,
     "metadata": {},
     "output_type": "execute_result"
    }
   ],
   "source": [
    "my_vector =np.array([6,7,8,9])\n",
    "my_vector"
   ]
  },
  {
   "cell_type": "code",
   "execution_count": 38,
   "metadata": {},
   "outputs": [
    {
     "data": {
      "text/plain": [
       "(4,)"
      ]
     },
     "execution_count": 38,
     "metadata": {},
     "output_type": "execute_result"
    }
   ],
   "source": [
    "my_vector.shape  # esto dice la dimension  del vector"
   ]
  },
  {
   "cell_type": "code",
   "execution_count": 41,
   "metadata": {},
   "outputs": [
    {
     "name": "stdout",
     "output_type": "stream",
     "text": [
      "[[6 7]\n",
      " [8 9]]\n",
      "(2, 2)\n"
     ]
    }
   ],
   "source": [
    "my_matrix = np.array([[6,7],[8,9]]) # asi se definen matrices\n",
    "print(my_matrix)\n",
    "# my_matrix.shape\n",
    "\n",
    "print(my_matrix.shape)"
   ]
  },
  {
   "cell_type": "code",
   "execution_count": 42,
   "metadata": {},
   "outputs": [
    {
     "data": {
      "text/plain": [
       "np.float64(7.5)"
      ]
     },
     "execution_count": 42,
     "metadata": {},
     "output_type": "execute_result"
    }
   ],
   "source": [
    "np.mean(my_vector)"
   ]
  },
  {
   "cell_type": "code",
   "execution_count": 43,
   "metadata": {},
   "outputs": [
    {
     "data": {
      "text/plain": [
       "np.float64(1.118033988749895)"
      ]
     },
     "execution_count": 43,
     "metadata": {},
     "output_type": "execute_result"
    }
   ],
   "source": [
    "np.std(my_vector)"
   ]
  },
  {
   "cell_type": "code",
   "execution_count": 45,
   "metadata": {},
   "outputs": [],
   "source": [
    "import pandas as pd\n",
    "import matplotlib.pyplot as plt\n"
   ]
  },
  {
   "cell_type": "code",
   "execution_count": 48,
   "metadata": {},
   "outputs": [
    {
     "data": {
      "text/html": [
       "<div>\n",
       "<style scoped>\n",
       "    .dataframe tbody tr th:only-of-type {\n",
       "        vertical-align: middle;\n",
       "    }\n",
       "\n",
       "    .dataframe tbody tr th {\n",
       "        vertical-align: top;\n",
       "    }\n",
       "\n",
       "    .dataframe thead th {\n",
       "        text-align: right;\n",
       "    }\n",
       "</style>\n",
       "<table border=\"1\" class=\"dataframe\">\n",
       "  <thead>\n",
       "    <tr style=\"text-align: right;\">\n",
       "      <th></th>\n",
       "      <th>age</th>\n",
       "      <th>weight</th>\n",
       "      <th>sporty</th>\n",
       "    </tr>\n",
       "  </thead>\n",
       "  <tbody>\n",
       "    <tr>\n",
       "      <th>0</th>\n",
       "      <td>23</td>\n",
       "      <td>70</td>\n",
       "      <td>si</td>\n",
       "    </tr>\n",
       "    <tr>\n",
       "      <th>1</th>\n",
       "      <td>45</td>\n",
       "      <td>80</td>\n",
       "      <td>no</td>\n",
       "    </tr>\n",
       "    <tr>\n",
       "      <th>2</th>\n",
       "      <td>33</td>\n",
       "      <td>65</td>\n",
       "      <td>si</td>\n",
       "    </tr>\n",
       "    <tr>\n",
       "      <th>3</th>\n",
       "      <td>24</td>\n",
       "      <td>72</td>\n",
       "      <td>si</td>\n",
       "    </tr>\n",
       "  </tbody>\n",
       "</table>\n",
       "</div>"
      ],
      "text/plain": [
       "   age  weight sporty\n",
       "0   23      70     si\n",
       "1   45      80     no\n",
       "2   33      65     si\n",
       "3   24      72     si"
      ]
     },
     "execution_count": 48,
     "metadata": {},
     "output_type": "execute_result"
    }
   ],
   "source": [
    "df = pd.DataFrame({\"age\":[23,45,33,24],\"weight\":[70,80,65,72],\"sporty\":[\"si\",\"no\",\"si\",\"si\"]})\n",
    "df"
   ]
  },
  {
   "cell_type": "code",
   "execution_count": 50,
   "metadata": {},
   "outputs": [
    {
     "data": {
      "text/plain": [
       "sporty\n",
       "si    3\n",
       "no    1\n",
       "Name: count, dtype: int64"
      ]
     },
     "execution_count": 50,
     "metadata": {},
     "output_type": "execute_result"
    }
   ],
   "source": [
    "df[\"sporty\"].value_counts()"
   ]
  },
  {
   "cell_type": "code",
   "execution_count": 52,
   "metadata": {},
   "outputs": [
    {
     "data": {
      "image/png": "[encoded data removed]",
      "text/plain": [
       "<Figure size 640x480 with 1 Axes>"
      ]
     },
     "metadata": {},
     "output_type": "display_data"
    }
   ],
   "source": [
    "plt.plot(df[\"age\"])\n",
    "plt.title(\"Grafico de lineas\")\n",
    "plt.show()"
   ]
  },
  {
   "cell_type": "code",
   "execution_count": 56,
   "metadata": {},
   "outputs": [
    {
     "data": {
      "image/png": "[encoded data removed]",
      "text/plain": [
       "<Figure size 640x480 with 1 Axes>"
      ]
     },
     "metadata": {},
     "output_type": "display_data"
    }
   ],
   "source": [
    "plt.bar([1,2,3,4],df[\"age\"])   # los valores [1,2,3,4] representan los valores de las abscisas\n",
    "plt.title(\"Grafico de lineas\")\n",
    "plt.show()"
   ]
  }
 ],
 "metadata": {
  "kernelspec": {
   "display_name": ".venv",
   "language": "python",
   "name": "python3"
  },
  "language_info": {
   "codemirror_mode": {
    "name": "ipython",
    "version": 3
   },
   "file_extension": ".py",
   "mimetype": "text/x-python",
   "name": "python",
   "nbconvert_exporter": "python",
   "pygments_lexer": "ipython3",
   "version": "3.12.1"
  }
 },
 "nbformat": 4,
 "nbformat_minor": 2
}
